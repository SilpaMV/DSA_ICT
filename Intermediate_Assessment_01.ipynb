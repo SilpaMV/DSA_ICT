{
  "nbformat": 4,
  "nbformat_minor": 0,
  "metadata": {
    "colab": {
      "provenance": []
    },
    "kernelspec": {
      "name": "python3",
      "display_name": "Python 3"
    },
    "language_info": {
      "name": "python"
    }
  },
  "cells": [
    {
      "cell_type": "markdown",
      "source": [
        "# Analyzing Sales Data in an E-commerce Store\n"
      ],
      "metadata": {
        "id": "g03CdNos4Etp"
      }
    },
    {
      "cell_type": "code",
      "execution_count": 50,
      "metadata": {
        "colab": {
          "base_uri": "https://localhost:8080/"
        },
        "id": "kMLFLUYt3S23",
        "outputId": "1c677496-c240-425c-f405-59a5f8059c22"
      },
      "outputs": [
        {
          "output_type": "stream",
          "name": "stdout",
          "text": [
            "{'order_id': 1, 'customer': 'hari', 'item': 'sunscreen ', 'quantity': 2, 'price_per_item': 499.0, 'order_date': '2025-10-21'}\n",
            "{'order_id': 2, 'customer': 'siva', 'item': 'serum ', 'quantity': 1, 'price_per_item': 1499.0, 'order_date': '2025-10-2'}\n",
            "{'order_id': 3, 'customer': 'arya', 'item': 'Toner ', 'quantity': 2, 'price_per_item': 500.0, 'order_date': '2025-10-4'}\n",
            "{'order_id': 4, 'customer': 'malu', 'item': 'Facewash ', 'quantity': 1, 'price_per_item': 999.0, 'order_date': '2025-10-1'}\n",
            "{'order_id': 5, 'customer': 'megha', 'item': 'Blush ', 'quantity': 2, 'price_per_item': 1699.0, 'order_date': '2025-10-10'}\n",
            "{'order_id': 6, 'customer': 'sneha', 'item': 'BB cream ', 'quantity': 1, 'price_per_item': 699.0, 'order_date': '2025-10-12'}\n",
            "{'order_id': 7, 'customer': 'vivek', 'item': 'cleanser ', 'quantity': 3, 'price_per_item': 769.0, 'order_date': '2025-10-18'}\n",
            "{'order_id': 8, 'customer': 'sree', 'item': 'Moisturizer ', 'quantity': 5, 'price_per_item': 1999.0, 'order_date': '2025-10-20'}\n",
            "{'order_id': 9, 'customer': 'amal', 'item': 'Lipstic ', 'quantity': 2, 'price_per_item': 2999.0, 'order_date': '2025-10-3'}\n",
            "{'order_id': 10, 'customer': 'arun', 'item': 'Lip balm ', 'quantity': 3, 'price_per_item': 666.0, 'order_date': '2025-10-15'}\n"
          ]
        }
      ],
      "source": [
        "Sales_data = [\n",
        "    {\"order_id\" : 1 , \"customer\" : \"hari\" , \"item\" : \"sunscreen \" , \"quantity\" : 2 , \"price_per_item\" : 499.0 , \"order_date\" : \"2025-10-21\"},\n",
        "    {\"order_id\" : 2 , \"customer\" : \"siva\" , \"item\" : \"serum \" , \"quantity\" : 1 , \"price_per_item\" : 1499.0 , \"order_date\" : \"2025-10-2\"},\n",
        "    {\"order_id\" : 3 , \"customer\" : \"arya\" , \"item\" : \"Toner \" , \"quantity\" : 2 , \"price_per_item\" : 500.0 , \"order_date\" : \"2025-10-4\"},\n",
        "    {\"order_id\" : 4 , \"customer\" : \"malu\" , \"item\" : \"Facewash \" , \"quantity\" : 1 , \"price_per_item\" : 999.0 , \"order_date\" : \"2025-10-1\"},\n",
        "    {\"order_id\" : 5 , \"customer\" : \"megha\" , \"item\" : \"Blush \" , \"quantity\" : 2 , \"price_per_item\" : 1699.0 , \"order_date\" : \"2025-10-10\"},\n",
        "    {\"order_id\" : 6 , \"customer\" : \"sneha\" , \"item\" : \"BB cream \" , \"quantity\" : 1 , \"price_per_item\" : 699.0 , \"order_date\" : \"2025-10-12\"},\n",
        "    {\"order_id\" : 7 , \"customer\" : \"vivek\" , \"item\" : \"cleanser \" , \"quantity\" : 3 , \"price_per_item\" : 769.0 , \"order_date\" : \"2025-10-18\"},\n",
        "    {\"order_id\" : 8 , \"customer\" : \"sree\" , \"item\" : \"Moisturizer \" , \"quantity\" : 5 , \"price_per_item\" : 1999.0 , \"order_date\" : \"2025-10-20\"},\n",
        "    {\"order_id\" : 9 , \"customer\" : \"amal\" , \"item\" : \"Lipstic \" , \"quantity\" : 2 , \"price_per_item\" : 2999.0 , \"order_date\" : \"2025-10-3\"},\n",
        "    {\"order_id\" : 10 , \"customer\" : \"arun\" , \"item\" : \"Lip balm \" , \"quantity\" : 3 , \"price_per_item\" : 666.0 , \"order_date\" : \"2025-10-15\"}\n",
        "    ]\n",
        "#print (Sales_data)\n",
        "for sales in Sales_data :\n",
        "  print(sales)\n"
      ]
    },
    {
      "cell_type": "code",
      "source": [
        "total_revenue = 0\n",
        "for sale in Sales_data:\n",
        "  revenue = sales[\"quantity\"] * sales[\"price_per_item\"]\n",
        "  total_revenue += revenue\n",
        "print(\"The total_revenue is :\", total_revenue)\n",
        "\n",
        "\n",
        "New_list = []\n",
        "for order in Sales_data:\n",
        "  order_value = order[\"quantity\"] * order[\"price_per_item\"]\n",
        "  if order_value > 2000 :\n",
        "    New_list.append(order)\n",
        "#for order in New_list:\n",
        "print(\"\\n All orders where the total order value exceeds ₹2,000. are : \")\n",
        "print(New_list)\n",
        "\n",
        "\n",
        "highest_total_quantity = 0\n",
        "for item in Sales_data:\n",
        "  item_quantity = item[\"quantity\"]\n",
        "  if item_quantity > highest_total_quantity:\n",
        "    item\n",
        "    highest_total_quantity = item_quantity\n",
        "    highest_item = item\n",
        "\n",
        "print(\"\\n The item with the highest total quantity sold across all orders \\n\", highest_item)\n",
        "print(highest_item[\"item\"])\n",
        "\n"
      ],
      "metadata": {
        "colab": {
          "base_uri": "https://localhost:8080/"
        },
        "id": "Bgvpz9to-CMq",
        "outputId": "5dcc785d-9832-4ba2-9725-73010781c84c"
      },
      "execution_count": 51,
      "outputs": [
        {
          "output_type": "stream",
          "name": "stdout",
          "text": [
            "The total_revenue is : 19980.0\n",
            "\n",
            " All orders where the total order value exceeds ₹2,000. are : \n",
            "[{'order_id': 5, 'customer': 'megha', 'item': 'Blush ', 'quantity': 2, 'price_per_item': 1699.0, 'order_date': '2025-10-10'}, {'order_id': 7, 'customer': 'vivek', 'item': 'cleanser ', 'quantity': 3, 'price_per_item': 769.0, 'order_date': '2025-10-18'}, {'order_id': 8, 'customer': 'sree', 'item': 'Moisturizer ', 'quantity': 5, 'price_per_item': 1999.0, 'order_date': '2025-10-20'}, {'order_id': 9, 'customer': 'amal', 'item': 'Lipstic ', 'quantity': 2, 'price_per_item': 2999.0, 'order_date': '2025-10-3'}]\n",
            "\n",
            " The item with the highest total quantity sold across all orders \n",
            " {'order_id': 8, 'customer': 'sree', 'item': 'Moisturizer ', 'quantity': 5, 'price_per_item': 1999.0, 'order_date': '2025-10-20'}\n",
            "Moisturizer \n"
          ]
        }
      ]
    },
    {
      "cell_type": "code",
      "source": [
        "discount_list = []\n",
        "discount_rate = 0.10 # Global variable\n",
        "def apply_discount(orders, discount_rate):\n",
        "  for order in orders:\n",
        "    discounted_order = order #local variable\n",
        "    discounted_order[\"price_per_item\"] = order[\"price_per_item\"] - (order[\"price_per_item\"] * discount_rate)\n",
        "    discount_list.append(discounted_order)\n",
        "  return(discount_list)\n",
        "discount_list = apply_discount(Sales_data , discount_rate )\n",
        "#print(discounted_order) # cause an error its local variable\n",
        "for list in discount_list:\n",
        "  print(list)\n",
        "\n",
        "\n"
      ],
      "metadata": {
        "colab": {
          "base_uri": "https://localhost:8080/"
        },
        "id": "NWGX6YcLIUKd",
        "outputId": "e3989001-3836-4500-e1f8-8eabec41791f"
      },
      "execution_count": 52,
      "outputs": [
        {
          "output_type": "stream",
          "name": "stdout",
          "text": [
            "{'order_id': 1, 'customer': 'hari', 'item': 'sunscreen ', 'quantity': 2, 'price_per_item': 449.1, 'order_date': '2025-10-21'}\n",
            "{'order_id': 2, 'customer': 'siva', 'item': 'serum ', 'quantity': 1, 'price_per_item': 1349.1, 'order_date': '2025-10-2'}\n",
            "{'order_id': 3, 'customer': 'arya', 'item': 'Toner ', 'quantity': 2, 'price_per_item': 450.0, 'order_date': '2025-10-4'}\n",
            "{'order_id': 4, 'customer': 'malu', 'item': 'Facewash ', 'quantity': 1, 'price_per_item': 899.1, 'order_date': '2025-10-1'}\n",
            "{'order_id': 5, 'customer': 'megha', 'item': 'Blush ', 'quantity': 2, 'price_per_item': 1529.1, 'order_date': '2025-10-10'}\n",
            "{'order_id': 6, 'customer': 'sneha', 'item': 'BB cream ', 'quantity': 1, 'price_per_item': 629.1, 'order_date': '2025-10-12'}\n",
            "{'order_id': 7, 'customer': 'vivek', 'item': 'cleanser ', 'quantity': 3, 'price_per_item': 692.1, 'order_date': '2025-10-18'}\n",
            "{'order_id': 8, 'customer': 'sree', 'item': 'Moisturizer ', 'quantity': 5, 'price_per_item': 1799.1, 'order_date': '2025-10-20'}\n",
            "{'order_id': 9, 'customer': 'amal', 'item': 'Lipstic ', 'quantity': 2, 'price_per_item': 2699.1, 'order_date': '2025-10-3'}\n",
            "{'order_id': 10, 'customer': 'arun', 'item': 'Lip balm ', 'quantity': 3, 'price_per_item': 599.4, 'order_date': '2025-10-15'}\n"
          ]
        }
      ]
    },
    {
      "cell_type": "markdown",
      "source": [
        "Here the global variables are discount_list and discount_rate. we can access the values inside the function but the local variable cant use out side the function"
      ],
      "metadata": {
        "id": "sxghbO7LQmgO"
      }
    }
  ]
}