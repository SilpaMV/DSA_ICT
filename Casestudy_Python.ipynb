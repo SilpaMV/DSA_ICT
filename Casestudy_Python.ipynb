{
  "nbformat": 4,
  "nbformat_minor": 0,
  "metadata": {
    "colab": {
      "provenance": []
    },
    "kernelspec": {
      "name": "python3",
      "display_name": "Python 3"
    },
    "language_info": {
      "name": "python"
    }
  },
  "cells": [
    {
      "cell_type": "markdown",
      "source": [
        "# 1.Bank Account Manager"
      ],
      "metadata": {
        "id": "nGrIscLkaXeS"
      }
    },
    {
      "cell_type": "code",
      "execution_count": null,
      "metadata": {
        "id": "RD7r3VA7Z40g",
        "colab": {
          "base_uri": "https://localhost:8080/"
        },
        "outputId": "efbb4833-eb64-4dc5-9d49-e1cbb2f37412"
      },
      "outputs": [
        {
          "output_type": "stream",
          "name": "stdout",
          "text": [
            " ********** WELCOME *********** \n",
            "\n",
            " Services \n",
            "\n",
            " Cash deposit \n",
            " Cash withdrawal \n",
            " Balance Inquiry \n",
            "\n",
            "\n",
            "Enter your Name :silpa\n",
            "Enter your 4 digit Account_Number :\n",
            "1234\n",
            "\n",
            " Continue ? : \n",
            " Type 'yes' or 'no' : yes\n",
            "\n",
            " Type '1' for Deposit \n",
            " '2' for Withdrawal \n",
            " '3' for Balance inquiry : \n",
            "1\n",
            "Enter amount to be deposit : 50000\n",
            "Insert the Cash\n",
            "\n",
            "Processing\n",
            "\n",
            "Type 'yes' to Confirm the transaction :yes\n",
            "\n",
            " ******Deposit successful!******\n",
            "\n",
            " Current Balance is : 50000.0\n",
            "\n",
            " Continue ? : \n",
            " Type 'yes' or 'no' : yes\n",
            "\n",
            " Type '1' for Deposit \n",
            " '2' for Withdrawal \n",
            " '3' for Balance inquiry : \n",
            "2\n",
            "Enter Amount to withdraw : 25000\n",
            "Processing\n",
            "\n",
            " Withdrawal successful !Collect your Cash\n",
            "\n",
            " Current Balance is : 25000.0\n",
            "\n",
            " Continue ? : \n",
            " Type 'yes' or 'no' : yes\n",
            "\n",
            " Type '1' for Deposit \n",
            " '2' for Withdrawal \n",
            " '3' for Balance inquiry : \n",
            "2\n",
            "Enter Amount to withdraw : 27000\n",
            "\n",
            " Insufficient Balance \n",
            " Available balance is 25000.0 \n",
            "\n",
            " Current Balance is : 25000.0\n",
            "\n",
            " Continue ? : \n",
            " Type 'yes' or 'no' : yes\n",
            "\n",
            " Type '1' for Deposit \n",
            " '2' for Withdrawal \n",
            " '3' for Balance inquiry : \n",
            "2\n",
            "Enter Amount to withdraw : 5000\n",
            "Processing\n",
            "\n",
            " Withdrawal successful !Collect your Cash\n",
            "\n",
            " Current Balance is : 20000.0\n",
            "\n",
            " Continue ? : \n",
            " Type 'yes' or 'no' : yes\n",
            "\n",
            " Type '1' for Deposit \n",
            " '2' for Withdrawal \n",
            " '3' for Balance inquiry : \n",
            "3\n",
            " \n",
            " your account balance is\n",
            " Rupees. 20000.0\n",
            "\n",
            " Continue ? : \n",
            " Type 'yes' or 'no' : no\n",
            "\n",
            " ********** Thank You ***********\n"
          ]
        }
      ],
      "source": [
        "print(\" ********** WELCOME *********** \")\n",
        "\n",
        "def deposit(balance):\n",
        "  amount_to_deposit = float (input(\"Enter amount to be deposit : \"))\n",
        "  print(\"Insert the Cash\\n\")\n",
        "  print(\"Processing\\n\")\n",
        "  confirm = input(\"Type 'yes' to Confirm the transaction :\")\n",
        "  if (confirm.lower() == 'yes'):\n",
        "    balance += amount_to_deposit\n",
        "    print(\"\\n ******Deposit successful!******\")\n",
        "  else:\n",
        "    print(\"Take cash & Try Again\")\n",
        "  return balance\n",
        "\n",
        "\n",
        "def withdrawal(balance):\n",
        "  amount_to_withdraw = float(input(\"Enter Amount to withdraw : \"))\n",
        "  if (amount_to_withdraw <= balance ):\n",
        "    print(\"Processing\")\n",
        "    balance -= amount_to_withdraw\n",
        "    print(\"\\n Withdrawal successful !Collect your Cash\")\n",
        "  else:\n",
        "    print(f\"\\n Insufficient Balance \\n Available balance is {balance} \")\n",
        "  return balance\n",
        "\n",
        "\n",
        "def balance_inquiry(balance):\n",
        "  print(f\" \\n your account balance is\\n Rupees. {account_Balance}\")\n",
        "\n",
        "print(\"\\n Services \\n\\n Cash deposit \\n Cash withdrawal \\n Balance Inquiry \\n\\n\")\n",
        "name = (input(\"Enter your Name :\"))\n",
        "account_number = int(input(\"Enter your 4 digit Account_Number :\\n\"))\n",
        "account_Balance = 0\n",
        "\n",
        "while (True):\n",
        "  check = input(\"\\n Continue ? : \\n Type 'yes' or 'no' : \")\n",
        "  if(check.lower() == 'yes'):\n",
        "    service = int(input(\"\\n Type '1' for Deposit \\n '2' for Withdrawal \\n '3' for Balance inquiry : \\n\"))\n",
        "\n",
        "    if (service == 1):\n",
        "      account_Balance = deposit(account_Balance)\n",
        "      print(f\"\\n Current Balance is : {account_Balance}\")\n",
        "\n",
        "    elif (service == 2):\n",
        "      account_Balance = withdrawal(account_Balance)\n",
        "      print(f\"\\n Current Balance is : {account_Balance}\")\n",
        "\n",
        "    elif (service == 3):\n",
        "      balance_inquiry(account_Balance)\n",
        "\n",
        "    else :\n",
        "      print(\"Incorrect Input\")\n",
        "\n",
        "  else:\n",
        "    print(\"\\n ********** Thank You ***********\")\n",
        "    break\n",
        "\n"
      ]
    },
    {
      "cell_type": "markdown",
      "source": [
        "# 2.Weather Data Analyzer"
      ],
      "metadata": {
        "id": "_JKvuP79U7Qx"
      }
    },
    {
      "cell_type": "code",
      "source": [
        "temperature_set = [26, 28, 30, 32, 31, 34, 25, 35]\n",
        "humidity_set = [55, 58, 62, 70, 68, 72, 80, 75]\n",
        "\n",
        "def temperature(temp):\n",
        "  avg_temperature = sum(temp) / len(temp)\n",
        "  print(avg_temperature)\n",
        "  return avg_temperature\n",
        "\n",
        "def humidity(humi_ty):\n",
        "  avg_humidity = sum(humi_ty) / len(humi_ty)\n",
        "  print(avg_humidity)\n",
        "  return avg_humidity\n",
        "\n",
        "average_temperature = temperature(temperature_set)\n",
        "average_humidity = humidity(humidity_set)\n",
        "\n",
        "if (average_temperature <=30 and average_humidity >= 70):\n",
        "  print(\"It's rainy day \")\n",
        "elif (average_temperature > 30 and average_humidity < 70):\n",
        "    print(\"It's Sunny day \")\n"
      ],
      "metadata": {
        "colab": {
          "base_uri": "https://localhost:8080/"
        },
        "id": "k6cQhDq0VHEk",
        "outputId": "aed05014-b307-442d-d166-f7d8970dd81b"
      },
      "execution_count": null,
      "outputs": [
        {
          "output_type": "stream",
          "name": "stdout",
          "text": [
            "30.125\n",
            "67.5\n",
            "It's Sunny day \n"
          ]
        }
      ]
    }
  ]
}